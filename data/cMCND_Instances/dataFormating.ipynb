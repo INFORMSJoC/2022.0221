{
 "cells": [
  {
   "cell_type": "code",
   "execution_count": 2,
   "metadata": {},
   "outputs": [],
   "source": [
    "using CSV"
   ]
  },
  {
   "cell_type": "code",
   "execution_count": 3,
   "metadata": {},
   "outputs": [],
   "source": [
    "for i in 35:64\n",
    "    \n",
    "    fileName=\"c\"* string(i)*\".dow\"\n",
    "    file= open(fileName)\n",
    "    readline(file)\n",
    "    graphSpec= eval(parse(\"[\"* readline(file)* \"]\"))\n",
    "    nbNode=graphSpec[1]\n",
    "    nbArc=graphSpec[2]\n",
    "\n",
    "    temp=readdlm(fileName,skipstart=2)\n",
    "    tempAny = temp[1:nbArc,:]\n",
    "    commodity = DataFrames.DataFrame(convert(Array{Int64, 2}, temp[nbArc+1:end,1:3]),[:from,:to,:quantity])\n",
    "\n",
    "    data = convert(Array{Int64, 2}, tempAny) #contient les données sous forme de array de int64\n",
    "\n",
    "\n",
    "    infoGraph=DataFrames.DataFrame(data,[:from,:to,:variable_cost ,:capacity,:fixed_cost,:x6,:x7])\n",
    "\n",
    "    CSV.write(\"c\"* string(i)*\".csv\", infoGraph, header = true)\n",
    "    CSV.write(\"c\"* string(i)*\"Comod.csv\", commodity, header = true)\n",
    "\n",
    "end"
   ]
  },
  {
   "cell_type": "code",
   "execution_count": null,
   "metadata": {},
   "outputs": [],
   "source": []
  }
 ],
 "metadata": {
  "kernelspec": {
   "display_name": "Julia 0.6.2",
   "language": "julia",
   "name": "julia-0.6"
  },
  "language_info": {
   "file_extension": ".jl",
   "mimetype": "application/julia",
   "name": "julia",
   "version": "0.6.2"
  }
 },
 "nbformat": 4,
 "nbformat_minor": 2
}
