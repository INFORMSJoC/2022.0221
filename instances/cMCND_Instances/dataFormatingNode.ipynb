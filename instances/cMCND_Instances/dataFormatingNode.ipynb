{
 "cells": [
  {
   "cell_type": "code",
   "execution_count": 22,
   "metadata": {},
   "outputs": [],
   "source": [
    "using CSV"
   ]
  },
  {
   "cell_type": "code",
   "execution_count": 29,
   "metadata": {},
   "outputs": [],
   "source": [
    "for i in readdir(\"\\infoNodes\")\n",
    "    \n",
    "    temp=readdlm(\"\\infoNodes\\\\\"*i)\n",
    "    #commodity = DataFrames.DataFrame(convert(Array{Int64, 2}, temp[nbArc+1:end,1:3]),[:from,:to,:quantity])\n",
    "\n",
    "    #data = convert(Array{Int64, 2}, tempAny) #contient les données sous forme de array de int64\n",
    "\n",
    "\n",
    "    infoNode=DataFrames.DataFrame(temp,[:node,:InitCapacity ,:IncremCapacity ,:IncremCosts6,:IncremCosts7,:IncremCosts8,:D])\n",
    "\n",
    "    CSV.write(i[1:end-3]*\"csv\", infoNode, header = true)\n",
    "    mv(i[1:end-3]*\"csv\", \"\\infoNodes\\\\\"*i[1:end-3]*\"csv\")\n",
    "\n",
    "end"
   ]
  },
  {
   "cell_type": "code",
   "execution_count": null,
   "metadata": {},
   "outputs": [],
   "source": []
  },
  {
   "cell_type": "code",
   "execution_count": null,
   "metadata": {},
   "outputs": [],
   "source": []
  }
 ],
 "metadata": {
  "kernelspec": {
   "display_name": "Julia 0.6.2",
   "language": "julia",
   "name": "julia-0.6"
  },
  "language_info": {
   "file_extension": ".jl",
   "mimetype": "application/julia",
   "name": "julia",
   "version": "0.6.2"
  }
 },
 "nbformat": 4,
 "nbformat_minor": 2
}
